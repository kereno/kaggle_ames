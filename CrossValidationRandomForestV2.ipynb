{
 "cells": [
  {
   "cell_type": "code",
   "execution_count": 1,
   "metadata": {
    "collapsed": true
   },
   "outputs": [],
   "source": [
    "import pandas as pd\n",
    "import numpy as np\n",
    "import matplotlib.pyplot as plt\n",
    "%matplotlib inline"
   ]
  },
  {
   "cell_type": "markdown",
   "metadata": {},
   "source": [
    "#  Read Data"
   ]
  },
  {
   "cell_type": "code",
   "execution_count": 2,
   "metadata": {
    "collapsed": true
   },
   "outputs": [],
   "source": [
    "df_train = pd.read_csv('data/train.csv')\n",
    "df_test = pd.read_csv('data/test.csv')"
   ]
  },
  {
   "cell_type": "code",
   "execution_count": 3,
   "metadata": {
    "collapsed": true
   },
   "outputs": [],
   "source": [
    "df_all = pd.concat((df_train, df_test))"
   ]
  },
  {
   "cell_type": "code",
   "execution_count": 4,
   "metadata": {
    "collapsed": true
   },
   "outputs": [],
   "source": [
    "df_all['SalePrice'] = df_all['SalePrice'].apply(np.log)"
   ]
  },
  {
   "cell_type": "markdown",
   "metadata": {},
   "source": [
    "# Add NB Locations"
   ]
  },
  {
   "cell_type": "code",
   "execution_count": 5,
   "metadata": {
    "collapsed": false
   },
   "outputs": [],
   "source": [
    "df_nb_locations = pd.read_csv('data/nb_locations.csv')\n",
    "df_nb_locations.drop('name', axis=1, inplace=True)\n",
    "df_nb_locations.rename(columns={'short': 'Neighborhood'}, inplace=True)"
   ]
  },
  {
   "cell_type": "code",
   "execution_count": 6,
   "metadata": {
    "collapsed": false
   },
   "outputs": [],
   "source": [
    "df_all = df_all.merge(df_nb_locations, how='left', on='Neighborhood')"
   ]
  },
  {
   "cell_type": "markdown",
   "metadata": {},
   "source": [
    "#  Fill Missing Data"
   ]
  },
  {
   "cell_type": "code",
   "execution_count": 7,
   "metadata": {
    "collapsed": false
   },
   "outputs": [],
   "source": [
    "for col in df_all.columns:\n",
    "    if col in ['Id', 'SalePrice']:\n",
    "        continue\n",
    "    \n",
    "    if df_all.dtypes[col] == 'object':\n",
    "        df_all[col].fillna(df_all[col].value_counts().index[0], inplace=True)\n",
    "    else:\n",
    "        df_all[col].fillna(df_all[col].mean(), inplace=True)"
   ]
  },
  {
   "cell_type": "markdown",
   "metadata": {},
   "source": [
    "# Factorize & Dummies Objects"
   ]
  },
  {
   "cell_type": "code",
   "execution_count": 12,
   "metadata": {
    "collapsed": false
   },
   "outputs": [],
   "source": [
    "for col in df_all.columns[df_all.dtypes == 'object']:\n",
    "    df_all[col + '_fact'] = pd.factorize(df_all[col])[0]\n",
    "    df_all[col + '_fact'].replace(-1, np.nan, inplace=True)\n",
    "    \n",
    "    if df_all[col].nunique() > 2:\n",
    "        df_all = pd.concat((df_all, pd.get_dummies(df_all[col])), axis=1)"
   ]
  },
  {
   "cell_type": "markdown",
   "metadata": {},
   "source": [
    "# Cross Validation"
   ]
  },
  {
   "cell_type": "code",
   "execution_count": 14,
   "metadata": {
    "collapsed": true
   },
   "outputs": [],
   "source": [
    "from sklearn.cross_validation import KFold\n",
    "from sklearn.ensemble import RandomForestRegressor\n",
    "from sklearn.metrics import mean_squared_error"
   ]
  },
  {
   "cell_type": "code",
   "execution_count": 15,
   "metadata": {
    "collapsed": false
   },
   "outputs": [],
   "source": [
    "features = list(df_all.columns[df_all.dtypes != 'object'])\n",
    "features.remove('Id')\n",
    "features.remove('SalePrice')"
   ]
  },
  {
   "cell_type": "code",
   "execution_count": 16,
   "metadata": {
    "collapsed": false
   },
   "outputs": [
    {
     "data": {
      "text/plain": [
       "326"
      ]
     },
     "execution_count": 16,
     "metadata": {},
     "output_type": "execute_result"
    }
   ],
   "source": [
    "len(features)"
   ]
  },
  {
   "cell_type": "code",
   "execution_count": 17,
   "metadata": {
    "collapsed": false
   },
   "outputs": [
    {
     "name": "stdout",
     "output_type": "stream",
     "text": [
      "\t0\t0.0898\t0.1622\n",
      "\t1\t0.0894\t0.1695\n",
      "\t2\t0.0908\t0.1369\n",
      "\t3\t0.0916\t0.1104\n",
      "\t4\t0.0901\t0.1443\n",
      "\t5\t0.0902\t0.1501\n",
      "\t6\t0.0923\t0.1072\n",
      "\t7\t0.0886\t0.1550\n",
      "\t8\t0.0910\t0.1300\n",
      "\t9\t0.0889\t0.1634\n",
      "0.0903\t0.1429\n"
     ]
    }
   ],
   "source": [
    "train_scores = []\n",
    "val_scores = []\n",
    "models = []\n",
    "\n",
    "for i, (train_ind, val_ind) in enumerate(KFold(len(df_train), n_folds=10, \n",
    "                                               shuffle=True, random_state=36)):   \n",
    "    X_train = df_all[features].values[train_ind]\n",
    "    X_val = df_all[features].values[val_ind]\n",
    "    \n",
    "    y_train = df_all['SalePrice'].values[train_ind]\n",
    "    y_val = df_all['SalePrice'].values[val_ind]\n",
    "    \n",
    "    rfr = RandomForestRegressor(n_estimators=500, min_samples_leaf=5).fit(X_train, y_train)\n",
    "    models.append(rfr)\n",
    "    train_scores.append(mean_squared_error(y_train, rfr.predict(X_train))**0.5)                                                  \n",
    "    val_scores.append(mean_squared_error(y_val, rfr.predict(X_val))**0.5)\n",
    "    \n",
    "    print '\\t%d\\t%.4f\\t%.4f' % (i, train_scores[-1], val_scores[-1])\n",
    "\n",
    "print '%.4f\\t%.4f' % (np.mean(train_scores), np.mean(val_scores))"
   ]
  },
  {
   "cell_type": "markdown",
   "metadata": {},
   "source": [
    "Above we have two columns, left one is the RMSE (root mean squared error) for the 90% we trained on, whereas the right one is the RMSE for the other 10% we left out. Obviously, the 90% is closer to the sales price since the model learned from that input. "
   ]
  },
  {
   "cell_type": "markdown",
   "metadata": {},
   "source": [
    "# View Features Importance"
   ]
  },
  {
   "cell_type": "code",
   "execution_count": 20,
   "metadata": {
    "collapsed": false
   },
   "outputs": [
    {
     "name": "stdout",
     "output_type": "stream",
     "text": [
      " 0.5762 OverallQual\n",
      "0.1103 GrLivArea\n",
      "0.0411 GarageCars\n",
      "0.0399 TotalBsmtSF\n",
      "0.0262 GarageArea\n",
      "0.0233 1stFlrSF\n",
      "0.0184 BsmtFinSF1\n",
      "0.0154 YearBuilt\n",
      "0.0130 Min1\n",
      "0.0115 LotArea\n",
      "0.0096 YearRemodAdd\n",
      "0.0085 OverallCond\n",
      "0.0085 Fireplaces\n",
      "0.0059 nb_alt\n",
      "0.0056 nb_lon\n",
      "0.0046 LotFrontage\n",
      "0.0045 VinylSd\n",
      "0.0043"
     ]
    },
    {
     "ename": "IndexError",
     "evalue": "list index out of range",
     "output_type": "error",
     "traceback": [
      "\u001b[1;31m---------------------------------------------------------------------------\u001b[0m",
      "\u001b[1;31mIndexError\u001b[0m                                Traceback (most recent call last)",
      "\u001b[1;32m<ipython-input-20-c84f4216e184>\u001b[0m in \u001b[0;36m<module>\u001b[1;34m()\u001b[0m\n\u001b[0;32m      1\u001b[0m \u001b[1;32mfor\u001b[0m \u001b[0mi\u001b[0m \u001b[1;32min\u001b[0m \u001b[0mnp\u001b[0m\u001b[1;33m.\u001b[0m\u001b[0margsort\u001b[0m\u001b[1;33m(\u001b[0m\u001b[0mmodels\u001b[0m\u001b[1;33m[\u001b[0m\u001b[1;36m6\u001b[0m\u001b[1;33m]\u001b[0m\u001b[1;33m.\u001b[0m\u001b[0mfeature_importances_\u001b[0m\u001b[1;33m)\u001b[0m\u001b[1;33m[\u001b[0m\u001b[1;33m:\u001b[0m\u001b[1;33m:\u001b[0m\u001b[1;33m-\u001b[0m\u001b[1;36m1\u001b[0m\u001b[1;33m]\u001b[0m\u001b[1;33m:\u001b[0m\u001b[1;33m\u001b[0m\u001b[0m\n\u001b[1;32m----> 2\u001b[1;33m     \u001b[1;32mprint\u001b[0m \u001b[1;34m'%.4f'\u001b[0m \u001b[1;33m%\u001b[0m \u001b[0mmodels\u001b[0m\u001b[1;33m[\u001b[0m\u001b[1;36m6\u001b[0m\u001b[1;33m]\u001b[0m\u001b[1;33m.\u001b[0m\u001b[0mfeature_importances_\u001b[0m\u001b[1;33m[\u001b[0m\u001b[0mi\u001b[0m\u001b[1;33m]\u001b[0m\u001b[1;33m,\u001b[0m \u001b[0mfeatures\u001b[0m\u001b[1;33m[\u001b[0m\u001b[0mi\u001b[0m\u001b[1;33m]\u001b[0m\u001b[1;33m\u001b[0m\u001b[0m\n\u001b[0m",
      "\u001b[1;31mIndexError\u001b[0m: list index out of range"
     ]
    }
   ],
   "source": [
    "for i in np.argsort(models[6].feature_importances_)[::-1]:\n",
    "    print '%.4f' % models[6].feature_importances_[i], features[i]"
   ]
  },
  {
   "cell_type": "markdown",
   "metadata": {},
   "source": [
    "# Predict On Test "
   ]
  },
  {
   "cell_type": "markdown",
   "metadata": {},
   "source": [
    "## Predict only on the best model"
   ]
  },
  {
   "cell_type": "code",
   "execution_count": 21,
   "metadata": {
    "collapsed": false
   },
   "outputs": [
    {
     "name": "stdout",
     "output_type": "stream",
     "text": [
      "\n"
     ]
    }
   ],
   "source": [
    "df_sub = pd.DataFrame({\n",
    "        'Id': df_all[df_all['SalePrice'].isnull()]['Id'].values,\n",
    "        'SalePrice': np.exp(models[6].predict(df_all[df_all['SalePrice'].isnull()][features].values))\n",
    "    })"
   ]
  },
  {
   "cell_type": "code",
   "execution_count": 22,
   "metadata": {
    "collapsed": true
   },
   "outputs": [],
   "source": [
    "df_sub.to_csv('sub_nblocs_dummies_model6.csv', index=False)"
   ]
  },
  {
   "cell_type": "markdown",
   "metadata": {},
   "source": [
    "## Predict all models and mean them"
   ]
  },
  {
   "cell_type": "code",
   "execution_count": 29,
   "metadata": {
    "collapsed": true
   },
   "outputs": [],
   "source": [
    "df_sub = pd.DataFrame({\n",
    "        'Id': df_all[df_all['SalePrice'].isnull()]['Id'].values,\n",
    "        'SalePrice': np.mean([np.exp(models[i].predict(df_all[df_all['SalePrice'].isnull()][features].values)) \n",
    "                              for i in xrange(len(models))], axis=0)\n",
    "    })"
   ]
  },
  {
   "cell_type": "code",
   "execution_count": 30,
   "metadata": {
    "collapsed": true
   },
   "outputs": [],
   "source": [
    "df_sub.to_csv('sub_models_mean.csv', index=False)"
   ]
  },
  {
   "cell_type": "code",
   "execution_count": null,
   "metadata": {
    "collapsed": true
   },
   "outputs": [],
   "source": []
  }
 ],
 "metadata": {
  "kernelspec": {
   "display_name": "Python 2",
   "language": "python",
   "name": "python2"
  },
  "language_info": {
   "codemirror_mode": {
    "name": "ipython",
    "version": 2
   },
   "file_extension": ".py",
   "mimetype": "text/x-python",
   "name": "python",
   "nbconvert_exporter": "python",
   "pygments_lexer": "ipython2",
   "version": "2.7.11"
  }
 },
 "nbformat": 4,
 "nbformat_minor": 2
}
