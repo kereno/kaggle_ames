{
 "cells": [
  {
   "cell_type": "code",
   "execution_count": 1,
   "metadata": {
    "collapsed": true
   },
   "outputs": [],
   "source": [
    "import pandas as pd\n",
    "import numpy as np\n",
    "import matplotlib.pyplot as plt\n",
    "%matplotlib inline"
   ]
  },
  {
   "cell_type": "markdown",
   "metadata": {},
   "source": [
    "#  Read Data"
   ]
  },
  {
   "cell_type": "code",
   "execution_count": 2,
   "metadata": {
    "collapsed": true
   },
   "outputs": [],
   "source": [
    "df_train = pd.read_csv('data/train.csv')\n",
    "df_test = pd.read_csv('data/test.csv')"
   ]
  },
  {
   "cell_type": "code",
   "execution_count": 3,
   "metadata": {
    "collapsed": true
   },
   "outputs": [],
   "source": [
    "df_all = pd.concat((df_train, df_test))"
   ]
  },
  {
   "cell_type": "code",
   "execution_count": 4,
   "metadata": {
    "collapsed": true
   },
   "outputs": [],
   "source": [
    "df_all['SalePrice'] = df_all['SalePrice'].apply(np.log)"
   ]
  },
  {
   "cell_type": "markdown",
   "metadata": {},
   "source": [
    "#  Fill Missing Data"
   ]
  },
  {
   "cell_type": "code",
   "execution_count": 5,
   "metadata": {
    "collapsed": false
   },
   "outputs": [],
   "source": [
    "for col in df_all.columns:\n",
    "    if col in ['Id', 'SalePrice']:\n",
    "        continue\n",
    "    \n",
    "    if df_all.dtypes[col] == 'object':\n",
    "        df_all[col].fillna(df_all[col].value_counts().index[0], inplace=True)\n",
    "    else:\n",
    "        df_all[col].fillna(df_all[col].mean(), inplace=True)"
   ]
  },
  {
   "cell_type": "markdown",
   "metadata": {},
   "source": [
    "# Factorize Objects"
   ]
  },
  {
   "cell_type": "code",
   "execution_count": 6,
   "metadata": {
    "collapsed": false
   },
   "outputs": [],
   "source": [
    "for col in df_all.columns[df_all.dtypes == 'object']:\n",
    "    df_all[col + '_fact'] = pd.factorize(df_all[col])[0]\n",
    "    df_all[col + '_fact'].replace(-1, np.nan, inplace=True)"
   ]
  },
  {
   "cell_type": "markdown",
   "metadata": {},
   "source": [
    "# Cross Validation"
   ]
  },
  {
   "cell_type": "code",
   "execution_count": 7,
   "metadata": {
    "collapsed": true
   },
   "outputs": [],
   "source": [
    "from sklearn.cross_validation import KFold\n",
    "from sklearn.ensemble import RandomForestRegressor\n",
    "from sklearn.metrics import mean_squared_error"
   ]
  },
  {
   "cell_type": "code",
   "execution_count": 8,
   "metadata": {
    "collapsed": false
   },
   "outputs": [],
   "source": [
    "features = list(df_all.columns[df_all.dtypes != 'object'])\n",
    "features.remove('Id')\n",
    "features.remove('SalePrice')"
   ]
  },
  {
   "cell_type": "code",
   "execution_count": 9,
   "metadata": {
    "collapsed": false
   },
   "outputs": [
    {
     "data": {
      "text/plain": [
       "79"
      ]
     },
     "execution_count": 9,
     "metadata": {},
     "output_type": "execute_result"
    }
   ],
   "source": [
    "len(features)"
   ]
  },
  {
   "cell_type": "code",
   "execution_count": 19,
   "metadata": {
    "collapsed": false
   },
   "outputs": [
    {
     "name": "stdout",
     "output_type": "stream",
     "text": [
      "\t0\t0.0928\t0.1634\n",
      "\t1\t0.0920\t0.1717\n",
      "\t2\t0.0936\t0.1383\n",
      "\t3\t0.0950\t0.1130\n",
      "\t4\t0.0920\t0.1479\n",
      "\t5\t0.0929\t0.1497\n",
      "\t6\t0.0956\t0.1053\n",
      "\t7\t0.0922\t0.1615\n",
      "\t8\t0.0941\t0.1274\n",
      "\t9\t0.0916\t0.1704\n",
      "0.0932\t0.1449\n"
     ]
    }
   ],
   "source": [
    "train_scores = []\n",
    "val_scores = []\n",
    "models = []\n",
    "\n",
    "for i, (train_ind, val_ind) in enumerate(KFold(len(df_train), n_folds=10, shuffle=True, random_state=36)):   \n",
    "    X_train = df_all[features].values[train_ind]\n",
    "    X_val = df_all[features].values[val_ind]\n",
    "    \n",
    "    y_train = df_all['SalePrice'].values[train_ind]\n",
    "    y_val = df_all['SalePrice'].values[val_ind]\n",
    "    \n",
    "    rfr = RandomForestRegressor(n_estimators=500, min_samples_leaf=5).fit(X_train, y_train)\n",
    "    models.append(rfr)\n",
    "    train_scores.append(mean_squared_error(y_train, rfr.predict(X_train))**0.5)                                                  \n",
    "    val_scores.append(mean_squared_error(y_val, rfr.predict(X_val))**0.5)\n",
    "    \n",
    "    print '\\t%d\\t%.4f\\t%.4f' % (i, train_scores[-1], val_scores[-1])\n",
    "\n",
    "print '%.4f\\t%.4f' % (np.mean(train_scores), np.mean(val_scores))"
   ]
  },
  {
   "cell_type": "markdown",
   "metadata": {},
   "source": [
    "# Predict On Test "
   ]
  },
  {
   "cell_type": "code",
   "execution_count": null,
   "metadata": {
    "collapsed": true
   },
   "outputs": [],
   "source": []
  }
 ],
 "metadata": {
  "kernelspec": {
   "display_name": "Python 2",
   "language": "python",
   "name": "python2"
  },
  "language_info": {
   "codemirror_mode": {
    "name": "ipython",
    "version": 2
   },
   "file_extension": ".py",
   "mimetype": "text/x-python",
   "name": "python",
   "nbconvert_exporter": "python",
   "pygments_lexer": "ipython2",
   "version": "2.7.12"
  }
 },
 "nbformat": 4,
 "nbformat_minor": 2
}
