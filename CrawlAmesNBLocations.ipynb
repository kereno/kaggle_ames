{
 "cells": [
  {
   "cell_type": "code",
   "execution_count": 49,
   "metadata": {
    "collapsed": true
   },
   "outputs": [],
   "source": [
    "import pandas as pd\n",
    "import urllib2"
   ]
  },
  {
   "cell_type": "code",
   "execution_count": 51,
   "metadata": {
    "collapsed": true
   },
   "outputs": [],
   "source": [
    "Neighborhoods = \"\"\"\n",
    "       Blmngtn\tBloomington Heights\n",
    "       Blueste\tBluestem\n",
    "       BrDale\tBriardale\n",
    "       BrkSide\tBrookside\n",
    "       ClearCr\tClear Creek\n",
    "       CollgCr\tCollege Creek\n",
    "       Crawfor\tCrawford\n",
    "       Edwards\tEdwards\n",
    "       Gilbert\tGilbert\n",
    "       IDOTRR\tIowa DOT and Rail Road\n",
    "       MeadowV\tMeadow Village\n",
    "       Mitchel\tMitchell\n",
    "       Names\tNorth Ames\n",
    "       NoRidge\tNorthridge\n",
    "       NPkVill\tNorthpark Villa\n",
    "       NridgHt\tNorthridge Heights\n",
    "       NWAmes\tNorthwest Ames\n",
    "       OldTown\tOld Town\n",
    "       SWISU\tSouth & West of Iowa State University\n",
    "       Sawyer\tSawyer\n",
    "       SawyerW\tSawyer West\n",
    "       Somerst\tSomerset\n",
    "       StoneBr\tStone Brook\n",
    "       Timber\tTimberland\n",
    "       Veenker\tVeenker\n",
    "\"\"\".strip().split('\\n')"
   ]
  },
  {
   "cell_type": "code",
   "execution_count": 36,
   "metadata": {
    "collapsed": false
   },
   "outputs": [
    {
     "name": "stdout",
     "output_type": "stream",
     "text": [
      "Bloomington Heights\n",
      "[2963.924773386475, -93.61970730000002, 42.0233443]\n",
      "Bluestem\n",
      "[2963.936623221009, -93.66378309999999, 42.0230901]\n",
      "Briardale\n",
      "[54083.25163365771, 34.88718555, 32.09079]\n",
      "Brookside\n",
      "[2963.663446865004, -93.6297476, 42.02894990000001]\n",
      "Clear Creek\n",
      "[2963.273889215563, -93.69789999999999, 42.037305]\n",
      "College Creek\n",
      "[5928.226177764435, -93.65884535, 42.01930444999999]\n",
      "Crawford\n",
      "[2963.787377241318, -93.6204513, 42.02629160000001]\n",
      "Edwards\n",
      "[2964.295260549899, -93.6853572, 42.0153961]\n",
      "Gilbert\n",
      "[2960.021261233302, -93.641272, 42.10701359999999]\n",
      "Iowa DOT and Rail Road\n",
      "[54083.25163365771, 34.88718555, 32.09079]\n",
      "Meadow Village\n",
      "[2965.398138385998, -93.6045889, 41.99172839999999]\n",
      "Mitchell\n",
      "[2965.464292078902, -93.60105329999999, 41.9903084]\n",
      "North Ames\n",
      "[2962.712402459567, -93.6224402, 42.0493452]\n",
      "Northridge\n",
      "[2962.784058739179, -93.6487377, 42.04780879999999]\n",
      "Northpark Villa\n",
      "[2964.638419054868, -93.60936389999999, 42.0080331]\n",
      "Northridge Heights\n",
      "[2815.657520201596, -93.6494713, 42.0597732]\n",
      "Northwest Ames\n",
      "[2963.920372803641, -93.60931719999999, 42.0234387]\n",
      "Old Town\n",
      "[3355.509790602472, -117.1956544, 32.7522025]\n",
      "South & West of Iowa State University\n",
      "[2817.127153040786, -93.6464654, 42.0266187]\n",
      "Sawyer\n",
      "[2963.432529511691, -93.6770658, 42.0339027]\n",
      "Sawyer West\n",
      "[54083.25163365771, 34.88718555, 32.09079]\n",
      "Somerset\n",
      "[5925.281474106843, -93.6441994, 42.05088175]\n",
      "Stone Brook\n",
      "[2962.34242273827, -93.6388448, 42.0572773]\n",
      "Timberland\n",
      "[2964.989207580235, -93.64974869999999, 42.00050530000001]\n",
      "Veenker\n",
      "[2963.087403683695, -93.6503018, 42.0413042]\n"
     ]
    }
   ],
   "source": [
    "nb_locations = []\n",
    "\n",
    "for nb in Neighborhoods:\n",
    "    if len(nb.strip()) == 0:\n",
    "        continue\n",
    "        \n",
    "    _, nb_name = nb.strip().split('\\t')\n",
    "    print nb_name\n",
    "    \n",
    "    html = urllib2.urlopen('https://www.google.co.il/maps/place/{}+Ames'.format(nb_name.replace(' ', '+'))).read()\n",
    "    start = html.find('cacheResponse([[[')\n",
    "    end = html.find(']')\n",
    "    print eval(html[start+16:end+1])"
   ]
  },
  {
   "cell_type": "code",
   "execution_count": 38,
   "metadata": {
    "collapsed": false
   },
   "outputs": [],
   "source": [
    "nb_data = \\\n",
    "\"\"\"\n",
    "Bloomington Heights\n",
    "[2963.924773386475, -93.61970730000002, 42.0233443]\n",
    "Bluestem\n",
    "[2963.936623221009, -93.66378309999999, 42.0230901]\n",
    "Briardale\n",
    "[54083.25163365771, 34.88718555, 32.09079]\n",
    "Brookside\n",
    "[2963.663446865004, -93.6297476, 42.02894990000001]\n",
    "Clear Creek\n",
    "[2963.273889215563, -93.69789999999999, 42.037305]\n",
    "College Creek\n",
    "[5928.226177764435, -93.65884535, 42.01930444999999]\n",
    "Crawford\n",
    "[2963.787377241318, -93.6204513, 42.02629160000001]\n",
    "Edwards\n",
    "[2964.295260549899, -93.6853572, 42.0153961]\n",
    "Gilbert\n",
    "[2960.021261233302, -93.641272, 42.10701359999999]\n",
    "Iowa DOT and Rail Road\n",
    "[54083.25163365771, 34.88718555, 32.09079]\n",
    "Meadow Village\n",
    "[2965.398138385998, -93.6045889, 41.99172839999999]\n",
    "Mitchell\n",
    "[2965.464292078902, -93.60105329999999, 41.9903084]\n",
    "North Ames\n",
    "[2962.712402459567, -93.6224402, 42.0493452]\n",
    "Northridge\n",
    "[2962.784058739179, -93.6487377, 42.04780879999999]\n",
    "Northpark Villa\n",
    "[2964.638419054868, -93.60936389999999, 42.0080331]\n",
    "Northridge Heights\n",
    "[2815.657520201596, -93.6494713, 42.0597732]\n",
    "Northwest Ames\n",
    "[2963.920372803641, -93.60931719999999, 42.0234387]\n",
    "Old Town\n",
    "[3355.509790602472, -117.1956544, 32.7522025]\n",
    "South & West of Iowa State University\n",
    "[2817.127153040786, -93.6464654, 42.0266187]\n",
    "Sawyer\n",
    "[2963.432529511691, -93.6770658, 42.0339027]\n",
    "Sawyer West\n",
    "[54083.25163365771, 34.88718555, 32.09079]\n",
    "Somerset\n",
    "[5925.281474106843, -93.6441994, 42.05088175]\n",
    "Stone Brook\n",
    "[2962.34242273827, -93.6388448, 42.0572773]\n",
    "Timberland\n",
    "[2964.989207580235, -93.64974869999999, 42.00050530000001]\n",
    "Veenker\n",
    "[2963.087403683695, -93.6503018, 42.0413042]\n",
    "\"\"\""
   ]
  },
  {
   "cell_type": "code",
   "execution_count": 47,
   "metadata": {
    "collapsed": false
   },
   "outputs": [],
   "source": [
    "data = []\n",
    "for i in xrange(0, len(nb_data.strip().split('\\n')), 2):\n",
    "    name, locations = nb_data.strip().split('\\n')[i:i+2]\n",
    "    alt, lat, lon = eval(locations)\n",
    "    data.append({'name': name,\n",
    "            'nb_alt': alt,\n",
    "            'nb_lat': lat,\n",
    "            'nb_lon': lon})"
   ]
  },
  {
   "cell_type": "code",
   "execution_count": 52,
   "metadata": {
    "collapsed": false
   },
   "outputs": [],
   "source": [
    "df_nb = pd.DataFrame.from_records(data)"
   ]
  },
  {
   "cell_type": "code",
   "execution_count": 55,
   "metadata": {
    "collapsed": false
   },
   "outputs": [],
   "source": [
    "nb_shorts = {x.strip().split('\\t')[1]: x.strip().split('\\t')[0] for x in Neighborhoods}"
   ]
  },
  {
   "cell_type": "code",
   "execution_count": 58,
   "metadata": {
    "collapsed": false
   },
   "outputs": [],
   "source": [
    "df_nb['short'] =  df_nb['name'].apply(lambda x: nb_shorts[x])"
   ]
  },
  {
   "cell_type": "code",
   "execution_count": 60,
   "metadata": {
    "collapsed": false
   },
   "outputs": [],
   "source": [
    "df_nb.to_csv('data/nb_locations.csv', index=False)"
   ]
  },
  {
   "cell_type": "code",
   "execution_count": null,
   "metadata": {
    "collapsed": true
   },
   "outputs": [],
   "source": []
  }
 ],
 "metadata": {
  "kernelspec": {
   "display_name": "Python 2",
   "language": "python",
   "name": "python2"
  },
  "language_info": {
   "codemirror_mode": {
    "name": "ipython",
    "version": 2
   },
   "file_extension": ".py",
   "mimetype": "text/x-python",
   "name": "python",
   "nbconvert_exporter": "python",
   "pygments_lexer": "ipython2",
   "version": "2.7.11"
  }
 },
 "nbformat": 4,
 "nbformat_minor": 0
}
